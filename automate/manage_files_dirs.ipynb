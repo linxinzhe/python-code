{
 "cells": [
  {
   "cell_type": "markdown",
   "source": [
    "##### 管理文件和文件夹"
   ],
   "metadata": {
    "collapsed": false,
    "pycharm": {
     "name": "#%% md\n"
    }
   }
  },
  {
   "cell_type": "code",
   "execution_count": null,
   "metadata": {
    "collapsed": true
   },
   "outputs": [],
   "source": [
    "import shutil\n",
    "# shutil.copy(source,destination) \n",
    "# source是文件，destination是文件夹的话，就是拷贝source到目标文件夹。\n",
    "print(shutil.copy(\"./shutil.ipynb\",\"./material\"))\n",
    "# source是文件，destination是文件的话，就是以destination为新名字，拷贝source到该路径。\n",
    "print(shutil.copy(\"./shutil.ipynb\",\"./material/shutil_copy.ipynb\"))\n",
    "\n",
    "# shutil.copytree(source_dir,destination_dir) \n",
    "# copytree会创建一个destination_dir，内容和source_dir一模一样\n",
    "print(shutil.copytree(\"./material\",\"./material_copy\"))\n",
    "\n",
    "# shutil.move(source,destination)\n",
    "# destination是文件，则移动到这里重命名，\n",
    "# destination是文件夹，则放进去保持原名，但是注意如果找不到这个文件夹会变成文件名，如果destination过程中的文件名不存在则抛异常\n",
    "\n",
    "# 创建删除文件\n",
    "import os \n",
    "os.mkdir(\"aaa\")\n",
    "os.rmdir(\"aaa\")\n",
    "os.mknod(\"aaa.txt\")\n",
    "os.unlink(\"aaa.txt\")\n",
    "\n",
    "# 可删除非空文件夹 \n",
    "shutil.rmtree(\"./material_copy\")\n"
   ]
  },
  {
   "cell_type": "markdown",
   "source": [
    "##### 遍历文件夹"
   ],
   "metadata": {
    "collapsed": false,
    "pycharm": {
     "name": "#%% md\n"
    }
   }
  },
  {
   "cell_type": "code",
   "execution_count": 2,
   "outputs": [
    {
     "name": "stdout",
     "text": [
      "The current folder is ./material/delicious\n",
      "SUBFOLDER OF ./material/delicious:cats\n",
      "SUBFOLDER OF ./material/delicious:walnut\n",
      "FILE INSIDE ./material/delicious:spam.txt\n",
      "The current folder is ./material/delicious/cats\n",
      "FILE INSIDE ./material/delicious/cats:catnames.txt\n",
      "FILE INSIDE ./material/delicious/cats:zophie.jpg\n",
      "The current folder is ./material/delicious/walnut\n",
      "SUBFOLDER OF ./material/delicious/walnut:waffles\n",
      "The current folder is ./material/delicious/walnut/waffles\n",
      "FILE INSIDE ./material/delicious/walnut/waffles:butter.txt\n"
     ],
     "output_type": "stream"
    }
   ],
   "source": [
    "import os\n",
    "# os.walk()就是从该文件夹起，走一遍装个文件夹及其子文件夹的文件\n",
    "for folderName,subfolders,filenames in os.walk(\"./material/delicious\"):\n",
    "    print(\"The current folder is \"+folderName)\n",
    "    \n",
    "    for subfolder in subfolders:\n",
    "        print('SUBFOLDER OF '+folderName+\":\"+subfolder)\n",
    "    \n",
    "    for filename in filenames:\n",
    "        print(\"FILE INSIDE \"+folderName+\":\"+filename)"
   ],
   "metadata": {
    "collapsed": false,
    "pycharm": {
     "name": "#%%\n",
     "is_executing": false
    }
   }
  },
  {
   "cell_type": "markdown",
   "source": [
    "##### 读取压缩文件"
   ],
   "metadata": {
    "collapsed": false,
    "pycharm": {
     "name": "#%% md\n"
    }
   }
  },
  {
   "cell_type": "code",
   "execution_count": 7,
   "outputs": [
    {
     "name": "stdout",
     "text": [
      "['spam.txt', 'cats/', 'cats/catnames.txt', 'cats/zophie.jpg']\n13908\n3828\n"
     ],
     "output_type": "stream"
    }
   ],
   "source": [
    "import os,zipfile\n",
    "exampleZip=zipfile.ZipFile('./material/example.zip')\n",
    "print(exampleZip.namelist())\n",
    "spamInfo=exampleZip.getinfo('spam.txt')\n",
    "print(spamInfo.file_size)\n",
    "print(spamInfo.compress_size)\n",
    "exampleZip.close()"
   ],
   "metadata": {
    "collapsed": false,
    "pycharm": {
     "name": "#%%\n",
     "is_executing": false
    }
   }
  },
  {
   "cell_type": "markdown",
   "source": [
    "##### 解压缩文件"
   ],
   "metadata": {
    "collapsed": false
   }
  },
  {
   "cell_type": "code",
   "execution_count": 10,
   "outputs": [],
   "source": [
    "import zipfile,os\n",
    "exampleZip=zipfile.ZipFile('./material/example.zip')\n",
    "exampleZip.extractall(\"./material/example\")\n",
    "exampleZip.extract(\"spam.txt\",\"./material/\")\n",
    "exampleZip.close()\n"
   ],
   "metadata": {
    "collapsed": false,
    "pycharm": {
     "name": "#%%\n",
     "is_executing": false
    }
   }
  },
  {
   "cell_type": "markdown",
   "source": [
    "##### 压缩文件"
   ],
   "metadata": {
    "collapsed": false
   }
  },
  {
   "cell_type": "code",
   "execution_count": null,
   "outputs": [],
   "source": [
    "import zipfile,os\n",
    "newZip=zipfile.ZipFile('./material/new_example.zip','w')\n",
    "newZip.write('spam.example.xlsx',compress_type=zipfile.ZIP_DEFLATED)\n",
    "newZip.close()"
   ],
   "metadata": {
    "collapsed": false,
    "pycharm": {
     "name": "#%%\n"
    }
   }
  }
 ],
 "metadata": {
  "language_info": {
   "codemirror_mode": {
    "name": "ipython",
    "version": 2
   },
   "file_extension": ".py",
   "mimetype": "text/x-python",
   "name": "python",
   "nbconvert_exporter": "python",
   "pygments_lexer": "ipython2",
   "version": "2.7.6"
  },
  "kernelspec": {
   "name": "python3",
   "language": "python",
   "display_name": "Python 3"
  },
  "pycharm": {
   "stem_cell": {
    "cell_type": "raw",
    "source": [],
    "metadata": {
     "collapsed": false
    }
   }
  }
 },
 "nbformat": 4,
 "nbformat_minor": 0
}