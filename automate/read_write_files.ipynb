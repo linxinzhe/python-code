{
 "cells": [
  {
   "cell_type": "markdown",
   "source": [
    "#### 读写文件\n"
   ],
   "metadata": {
    "collapsed": false
   }
  },
  {
   "cell_type": "markdown",
   "source": [
    "##### 拼接路径"
   ],
   "metadata": {
    "collapsed": false
   }
  },
  {
   "cell_type": "code",
   "execution_count": null,
   "metadata": {
    "collapsed": true
   },
   "outputs": [],
   "source": [
    "import os\n",
    "os.path.join(\"usr\",\"bin\",\"spam\")\n"
   ]
  },
  {
   "cell_type": "markdown",
   "source": [
    "##### 切换工作路径"
   ],
   "metadata": {
    "collapsed": false
   }
  },
  {
   "cell_type": "code",
   "execution_count": null,
   "outputs": [],
   "source": [
    "import os\n",
    "print(os.getcwd())\n",
    "os.chdir(\"~/github/python/python-code\")\n"
   ],
   "metadata": {
    "collapsed": false,
    "pycharm": {
     "name": "#%%\n"
    }
   }
  },
  {
   "cell_type": "markdown",
   "source": [
    "##### 建立文件夹"
   ],
   "metadata": {
    "collapsed": false
   }
  },
  {
   "cell_type": "code",
   "execution_count": null,
   "outputs": [],
   "source": [
    "import os\n",
    "os.makedirs(\"~/github/python/python-code/automate/a/b/c\")\n"
   ],
   "metadata": {
    "collapsed": false,
    "pycharm": {
     "name": "#%%\n"
    }
   }
  },
  {
   "cell_type": "markdown",
   "source": [
    "##### 相对、绝对路径"
   ],
   "metadata": {
    "collapsed": false
   }
  },
  {
   "cell_type": "code",
   "execution_count": null,
   "outputs": [],
   "source": [
    "import os\n",
    "os.path.abspath(\".\")\n",
    "os.path.isabs(\".\")\n",
    "os.path.relpath(\"/usr/bin\",\"/usr\")\n"
   ],
   "metadata": {
    "collapsed": false,
    "pycharm": {
     "name": "#%%\n"
    }
   }
  },
  {
   "cell_type": "markdown",
   "source": [
    "##### 文件、文件夹路径拆分"
   ],
   "metadata": {
    "collapsed": false
   }
  },
  {
   "cell_type": "code",
   "execution_count": 2,
   "outputs": [
    {
     "name": "stdout",
     "text": [
      "automate\nread_write_files.ipynb\n('automate', 'read_write_files.ipynb')\n"
     ],
     "output_type": "stream"
    }
   ],
   "source": [
    "import os\n",
    "print(os.path.dirname(\"automate/read_write_files.ipynb\"))\n",
    "print(os.path.basename(\"automate/read_write_files.ipynb\"))\n",
    "print(os.path.split(\"automate/read_write_files.ipynb\"))\n"
   ],
   "metadata": {
    "collapsed": false,
    "pycharm": {
     "name": "#%%\n",
     "is_executing": false
    }
   }
  },
  {
   "cell_type": "markdown",
   "source": [
    "##### 文件、文件夹是否存在"
   ],
   "metadata": {
    "collapsed": false
   }
  },
  {
   "cell_type": "code",
   "execution_count": null,
   "outputs": [],
   "source": [
    "import os\n",
    "os.path.exists(\"automate/read_write_files.ipynb\")\n",
    "os.path.isfile(\"automate/read_write_files.ipynb\")\n",
    "os.path.isdir(\"automate/read_write_files.ipynb\")\n"
   ],
   "metadata": {
    "collapsed": false,
    "pycharm": {
     "name": "#%%\n"
    }
   }
  },
  {
   "cell_type": "markdown",
   "source": [
    "##### 读写文件"
   ],
   "metadata": {
    "collapsed": false
   }
  },
  {
   "cell_type": "code",
   "execution_count": null,
   "outputs": [],
   "source": [
    "with open(\"read_write_files.ipynb\",\"r\") as f:\n",
    "    f.read()\n",
    "with open(\"./material/read_write_files_demo.txt\",\"w\") as f:\n",
    "    f.write(\"a demo writing from read_write_files.ipynb\")\n",
    "with open(\"./material/read_write_files_demo.txt\",\"a\") as f:\n",
    "    f.write(\"continue a demo writing from read_write_files.ipynb\")"
   ],
   "metadata": {
    "collapsed": false,
    "pycharm": {
     "name": "#%%\n"
    }
   }
  },
  {
   "cell_type": "markdown",
   "source": [
    "##### shelve保存变量"
   ],
   "metadata": {
    "collapsed": false
   }
  },
  {
   "cell_type": "code",
   "execution_count": null,
   "outputs": [],
   "source": [
    "import shelve\n",
    "shelfFile=shelve.open(\"./material/mydata\")\n",
    "cats=[\"Zophie\",\"Pooka\",\"Simon\"]\n",
    "shelfFile[\"cats\"]=cats\n",
    "shelfFile.close()\n",
    "\n",
    "shelfFile=shelve.open(\"./material/mydata\")\n",
    "print(shelfFile.keys())\n",
    "print(shelfFile.values())\n",
    "print(shelfFile[\"cats\"])\n",
    "shelfFile.close()"
   ],
   "metadata": {
    "collapsed": false,
    "pycharm": {
     "name": "#%%\n"
    }
   }
  }
 ],
 "metadata": {
  "language_info": {
   "codemirror_mode": {
    "name": "ipython",
    "version": 2
   },
   "file_extension": ".py",
   "mimetype": "text/x-python",
   "name": "python",
   "nbconvert_exporter": "python",
   "pygments_lexer": "ipython2",
   "version": "2.7.6"
  },
  "kernelspec": {
   "name": "python3",
   "language": "python",
   "display_name": "Python 3"
  },
  "pycharm": {
   "stem_cell": {
    "cell_type": "raw",
    "source": [],
    "metadata": {
     "collapsed": false
    }
   }
  }
 },
 "nbformat": 4,
 "nbformat_minor": 0
}