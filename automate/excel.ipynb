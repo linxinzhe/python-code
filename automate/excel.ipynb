{
 "cells": [
  {
   "cell_type": "markdown",
   "source": [
    "#### 处理Excel\n",
    "openpyxl版本2.6.2  "
   ],
   "metadata": {
    "collapsed": false
   }
  },
  {
   "cell_type": "markdown",
   "source": [
    "##### 读取Excel"
   ],
   "metadata": {
    "collapsed": false
   }
  },
  {
   "cell_type": "code",
   "execution_count": 13,
   "metadata": {
    "collapsed": true,
    "pycharm": {
     "is_executing": false
    }
   },
   "outputs": [
    {
     "name": "stdout",
     "text": [
      "2015-04-05 13:34:02\n3\n1\n7\n1\n"
     ],
     "output_type": "stream"
    }
   ],
   "source": [
    "import openpyxl\n",
    "wb=openpyxl.load_workbook(\"./material/example.xlsx\")\n",
    "sheet=wb[\"Sheet1\"]\n",
    "print(sheet[\"A1\"].value)\n",
    "print(\"max column:\",sheet.max_column)\n",
    "print(\"min column:\",sheet.min_column)\n",
    "print(\"max row:\",sheet.max_row)\n",
    "print(\"min row:\",sheet.min_row)"
   ]
  },
  {
   "cell_type": "markdown",
   "source": [
    "##### 迭代Excel"
   ],
   "metadata": {
    "collapsed": false
   }
  },
  {
   "cell_type": "code",
   "execution_count": 3,
   "outputs": [
    {
     "name": "stdout",
     "text": [
      "<Cell 'Sheet1'.A1>\n<Cell 'Sheet1'.B1>\n<Cell 'Sheet1'.C1>\n<Cell 'Sheet1'.A2>\n<Cell 'Sheet1'.B2>\n<Cell 'Sheet1'.C2>\n"
     ],
     "output_type": "stream"
    }
   ],
   "source": [
    "import openpyxl\n",
    "wb=openpyxl.load_workbook(\"./material/example.xlsx\")\n",
    "sheet=wb[\"Sheet1\"]\n",
    "cell_range=sheet[\"A1\":\"C7\"]\n",
    "for row in sheet.iter_rows(min_row=1,max_col=3,max_row=2, values_only=True):\n",
    "    for cell in row:\n",
    "        print(cell)"
   ],
   "metadata": {
    "collapsed": false,
    "pycharm": {
     "name": "#%%\n",
     "is_executing": false
    }
   }
  },
  {
   "cell_type": "code",
   "execution_count": 4,
   "outputs": [
    {
     "name": "stdout",
     "text": [
      "<Cell 'Sheet1'.A1>\n<Cell 'Sheet1'.A2>\n<Cell 'Sheet1'.B1>\n<Cell 'Sheet1'.B2>\n<Cell 'Sheet1'.C1>\n<Cell 'Sheet1'.C2>\n"
     ],
     "output_type": "stream"
    }
   ],
   "source": [
    "for col in sheet.iter_cols(min_row=1, max_col=3, max_row=2, values_only=True):\n",
    "     for cell in col:\n",
    "         print(cell)"
   ],
   "metadata": {
    "collapsed": false,
    "pycharm": {
     "name": "#%%\n",
     "is_executing": false
    }
   }
  },
  {
   "cell_type": "markdown",
   "source": [
    "##### 写入Excel"
   ],
   "metadata": {
    "collapsed": false
   }
  },
  {
   "cell_type": "code",
   "execution_count": 11,
   "outputs": [],
   "source": [
    "import openpyxl\n",
    "wb = openpyxl.Workbook()\n",
    "ws1=wb.create_sheet(\"Sheet1\")\n",
    "ws1[\"A1\"]=3.14\n",
    "ws2=wb.create_sheet(\"Sheet2\")\n",
    "for row in range(1, 40):\n",
    "    ws2.append(range(10))\n",
    "# 设置公式\n",
    "ws2[\"A41\"] = \"=SUM(A1:A40)\"\n",
    "wb.save(\"./material/save_demo.xlsx\")"
   ],
   "metadata": {
    "collapsed": false,
    "pycharm": {
     "name": "#%%\n",
     "is_executing": false
    }
   }
  },
  {
   "cell_type": "markdown",
   "source": [
    "##### 列的字母和数字之间转换"
   ],
   "metadata": {
    "collapsed": false
   }
  },
  {
   "cell_type": "code",
   "execution_count": 17,
   "outputs": [
    {
     "name": "stdout",
     "text": [
      "27\nAA\n"
     ],
     "output_type": "stream"
    }
   ],
   "source": [
    "import openpyxl\n",
    "print(openpyxl.utils.column_index_from_string(\"AA\"))\n",
    "print(openpyxl.utils.get_column_letter(27))"
   ],
   "metadata": {
    "collapsed": false,
    "pycharm": {
     "name": "#%% \n",
     "is_executing": false
    }
   }
  },
  {
   "cell_type": "code",
   "execution_count": null,
   "outputs": [],
   "source": [
    "\n"
   ],
   "metadata": {
    "collapsed": false,
    "pycharm": {
     "name": "#%%\n"
    }
   }
  }
 ],
 "metadata": {
  "language_info": {
   "codemirror_mode": {
    "name": "ipython",
    "version": 2
   },
   "file_extension": ".py",
   "mimetype": "text/x-python",
   "name": "python",
   "nbconvert_exporter": "python",
   "pygments_lexer": "ipython2",
   "version": "2.7.6"
  },
  "kernelspec": {
   "name": "python3",
   "language": "python",
   "display_name": "Python 3"
  },
  "pycharm": {
   "stem_cell": {
    "cell_type": "raw",
    "source": [],
    "metadata": {
     "collapsed": false
    }
   }
  }
 },
 "nbformat": 4,
 "nbformat_minor": 0
}