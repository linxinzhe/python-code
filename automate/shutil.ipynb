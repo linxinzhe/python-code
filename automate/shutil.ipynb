{
 "cells": [
  {
   "cell_type": "code",
   "execution_count": null,
   "metadata": {
    "collapsed": true
   },
   "outputs": [],
   "source": [
    "import shutil\n",
    "# shutil.copy(source,destination) \n",
    "# source是文件，destination是文件夹的话，就是拷贝source到目标文件夹。\n",
    "print(shutil.copy(\"./shutil.ipynb\",\"./material\"))\n",
    "# source是文件，destination是文件的话，就是以destination为新名字，拷贝source到该路径。\n",
    "print(shutil.copy(\"./shutil.ipynb\",\"./material/shutil_copy.ipynb\"))\n",
    "\n",
    "# shutil.copytree(source_dir,destination_dir) \n",
    "# copytree会创建一个destination_dir，内容和source_dir一模一样\n",
    "print(shutil.copytree(\"./material\",\"./material_copy\"))\n",
    "\n",
    "# shutil.move(source,destination)\n",
    "# destination是文件，则移动到这里重命名，\n",
    "# destination是文件夹，则放进去保持原名，但是注意如果找不到这个文件夹会变成文件名，如果destination过程中的文件名不存在则抛异常\n",
    "\n",
    "# 创建删除文件\n",
    "import os \n",
    "os.mkdir(\"aaa\")\n",
    "os.rmdir(\"aaa\")\n",
    "os.mknod(\"aaa.txt\")\n",
    "os.unlink(\"aaa.txt\")\n",
    "\n",
    "# 可删除非空文件夹 \n",
    "shutil.rmtree(\"./material_copy\")"
   ]
  }
 ],
 "metadata": {
  "language_info": {
   "codemirror_mode": {
    "name": "ipython",
    "version": 2
   },
   "file_extension": ".py",
   "mimetype": "text/x-python",
   "name": "python",
   "nbconvert_exporter": "python",
   "pygments_lexer": "ipython2",
   "version": "2.7.6"
  },
  "kernelspec": {
   "name": "python3",
   "language": "python",
   "display_name": "Python 3"
  },
  "pycharm": {
   "stem_cell": {
    "cell_type": "raw",
    "source": [],
    "metadata": {
     "collapsed": false
    }
   }
  }
 },
 "nbformat": 4,
 "nbformat_minor": 0
}