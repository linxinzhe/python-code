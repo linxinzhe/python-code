{
  "cells": [
    {
      "cell_type": "markdown",
      "metadata": {
        "collapsed": true,
        "pycharm": {
          "name": "#%% md\n"
        }
      },
      "source": "### Python中一切皆为对象\n#### 一切皆为对象\n类和函数是对象，是一等公民：\n1. 赋值给变量\n2. 添加到集合 \n3. 作为参数传递给函数\n4. 当作返回值\n\n#### type, object, class的关系\n- type-\u003eint-\u003e1\n- type-\u003eclass-\u003eobj\n- object是最顶层基类，所有的类包括type都继承它\n- type也是一个类，是object的实例，也是type自己的实例。"
    },
    {
      "cell_type": "code",
      "execution_count": null,
      "outputs": [],
      "source": "type.__bases__",
      "metadata": {
        "pycharm": {
          "metadata": false,
          "name": "#%%\n"
        }
      }
    },
    {
      "cell_type": "code",
      "execution_count": null,
      "outputs": [],
      "source": "type(object)\n",
      "metadata": {
        "pycharm": {
          "metadata": false,
          "name": "#%%\n"
        }
      }
    },
    {
      "cell_type": "markdown",
      "source": "### 魔法函数\n如__init__就是一个魔法函数\n",
      "metadata": {
        "pycharm": {
          "metadata": false
        }
      }
    },
    {
      "cell_type": "markdown",
      "source": "### 类和对象\n",
      "metadata": {
        "pycharm": {
          "metadata": false
        }
      }
    },
    {
      "cell_type": "markdown",
      "source": "#### 鸭子类型和多态",
      "metadata": {
        "pycharm": {
          "metadata": false
        }
      }
    },
    {
      "cell_type": "code",
      "execution_count": 3,
      "outputs": [
        {
          "name": "stdout",
          "text": [
            "hello A\nhello B\n"
          ],
          "output_type": "stream"
        }
      ],
      "source": "class A():\n    def say(self):\n        print(\"hello A\")\nclass B():\n    def say(self):\n        print(\"hello B\")\na\u003dA()\na.say()\na\u003dB()\na.say()\n",
      "metadata": {
        "pycharm": {
          "metadata": false,
          "name": "#%%\n",
          "is_executing": false
        }
      }
    },
    {
      "cell_type": "markdown",
      "source": "#### 抽象基类\n\n\n",
      "metadata": {
        "pycharm": {
          "metadata": false
        }
      }
    }
  ],
  "metadata": {
    "language_info": {
      "codemirror_mode": {
        "name": "ipython",
        "version": 2
      },
      "file_extension": ".py",
      "mimetype": "text/x-python",
      "name": "python",
      "nbconvert_exporter": "python",
      "pygments_lexer": "ipython2",
      "version": "2.7.6"
    },
    "kernelspec": {
      "name": "python3",
      "language": "python",
      "display_name": "Python 3"
    }
  },
  "nbformat": 4,
  "nbformat_minor": 0
}