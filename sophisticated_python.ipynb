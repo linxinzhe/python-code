{
  "cells": [
    {
      "cell_type": "markdown",
      "metadata": {
        "collapsed": true,
        "pycharm": {
          "name": "#%% md\n"
        }
      },
      "source": "### Python中一切皆为对象\n#### 一切皆为对象\n类和函数是对象，是一等公民：\n1. 赋值给变量\n2. 添加到集合 \n3. 作为参数传递给函数\n4. 当作返回值\n\n#### type, object, class的关系\n- type-\u003eint-\u003e1\n- type-\u003eclass-\u003eobj\n- object是最顶层基类，所有的类包括type都继承它\n- type也是一个类，是object的实例，也是type自己的实例。"
    },
    {
      "cell_type": "code",
      "execution_count": null,
      "outputs": [],
      "source": "type.__bases__",
      "metadata": {
        "pycharm": {
          "metadata": false,
          "name": "#%%\n"
        }
      }
    },
    {
      "cell_type": "code",
      "execution_count": null,
      "outputs": [],
      "source": "type(object)\n",
      "metadata": {
        "pycharm": {
          "metadata": false,
          "name": "#%%\n"
        }
      }
    },
    {
      "cell_type": "markdown",
      "source": "### 魔法函数\n如__init__就是一个魔法函数\n",
      "metadata": {
        "pycharm": {
          "metadata": false
        }
      }
    },
    {
      "cell_type": "markdown",
      "source": "### 类和对象\n",
      "metadata": {
        "pycharm": {
          "metadata": false
        }
      }
    },
    {
      "cell_type": "markdown",
      "source": "#### 鸭子类型和多态",
      "metadata": {
        "pycharm": {
          "metadata": false
        }
      }
    },
    {
      "cell_type": "code",
      "execution_count": 6,
      "outputs": [
        {
          "name": "stdout",
          "text": [
            "hello A\nhello B\n"
          ],
          "output_type": "stream"
        }
      ],
      "source": "class A():\n    def say(self):\n        print(\"hello A\")\nclass B():\n    def say(self):\n        print(\"hello B\")\na\u003dA()\na.say()\na\u003dB()\na.say()\n",
      "metadata": {
        "pycharm": {
          "metadata": false,
          "name": "#%%\n",
          "is_executing": false
        }
      }
    },
    {
      "cell_type": "markdown",
      "source": "#### 抽象基类(使用abc模块)\n",
      "metadata": {
        "pycharm": {
          "metadata": false
        }
      }
    },
    {
      "cell_type": "code",
      "execution_count": 8,
      "outputs": [],
      "source": "import abc\nclass CacheBase(metaclass\u003dabc.ABCMeta):\n    @abc.abstractmethod\n    def get(self,key):\n        pass\n    \n    @abc.abstractmethod\n    def set(self,key,value):\n        pass\n    \nclass RedisCache(CacheBase):\n    def set(self,key,value):\n        pass\n",
      "metadata": {
        "pycharm": {
          "metadata": false,
          "name": "#%% \n",
          "is_executing": false
        }
      }
    },
    {
      "cell_type": "markdown",
      "source": "#### 使用isinstance而不是type\n",
      "metadata": {
        "pycharm": {
          "metadata": false
        }
      }
    },
    {
      "cell_type": "markdown",
      "source": "#### 类变量和实例变量",
      "metadata": {
        "pycharm": {
          "metadata": false
        }
      }
    },
    {
      "cell_type": "code",
      "execution_count": 3,
      "outputs": [
        {
          "name": "stdout",
          "text": [
            "2 3 11\n11\n100\n11\n"
          ],
          "output_type": "stream"
        }
      ],
      "source": "class A:\n    aa\u003d11 # 类变量\n    def __init__(self,x,y):\n        self.x\u003dx # 实例变量\n        self.y\u003dy\n\na\u003dA(2,3)\nprint(a.x,a.y,a.aa)\nprint(A.aa)\n\na.aa\u003d100 # 实例多了个aa属性\nprint(a.aa) \nprint(A.aa)\n",
      "metadata": {
        "pycharm": {
          "metadata": false,
          "name": "#%% \n",
          "is_executing": false
        }
      }
    },
    {
      "cell_type": "markdown",
      "source": "#### 类和实例属性的查找顺序",
      "metadata": {
        "pycharm": {
          "metadata": false,
          "name": "#%% md\n"
        }
      }
    },
    {
      "cell_type": "code",
      "execution_count": 4,
      "outputs": [
        {
          "name": "stdout",
          "text": [
            "(\u003cclass \u0027__main__.A\u0027\u003e, \u003cclass \u0027__main__.B\u0027\u003e, \u003cclass \u0027__main__.C\u0027\u003e, \u003cclass \u0027__main__.D\u0027\u003e, \u003cclass \u0027object\u0027\u003e)\n"
          ],
          "output_type": "stream"
        }
      ],
      "source": "class D:\n    pass\n\nclass C(D):\n    pass\n\nclass B(D):\n    pass\n\nclass A(B,C):\n    pass\n\nprint(A.__mro__) # 菱形继承的广度优先\n",
      "metadata": {
        "pycharm": {
          "metadata": false,
          "name": "#%% \n",
          "is_executing": false
        }
      }
    },
    {
      "cell_type": "code",
      "execution_count": 5,
      "outputs": [
        {
          "name": "stdout",
          "text": [
            "(\u003cclass \u0027__main__.A\u0027\u003e, \u003cclass \u0027__main__.B\u0027\u003e, \u003cclass \u0027__main__.D\u0027\u003e, \u003cclass \u0027__main__.C\u0027\u003e, \u003cclass \u0027__main__.E\u0027\u003e, \u003cclass \u0027object\u0027\u003e)\n"
          ],
          "output_type": "stream"
        }
      ],
      "source": "class D:\n    pass\n\nclass E:\n    pass\n\nclass C(E):\n    pass\n\nclass B(D):\n    pass\n\nclass A(B,C):\n    pass\n\nprint(A.__mro__) # 非菱形的会变成深度优先\n",
      "metadata": {
        "pycharm": {
          "metadata": false,
          "name": "#%% \n",
          "is_executing": false
        }
      }
    },
    {
      "cell_type": "markdown",
      "source": "#### 类方法、静态方法和实例方法",
      "metadata": {
        "pycharm": {
          "metadata": false
        }
      }
    },
    {
      "cell_type": "code",
      "execution_count": 7,
      "outputs": [],
      "source": "class Date():\n    def __init__(self,year,month,day):\n        self.year\u003dyear\n        self.month\u003dmonth\n        self.day\u003dday\n        \n    def tomorrow(self): # 实例方法\n        self.day+\u003d1\n    \n    @staticmethod\n    def parse_from_string(date_str): # 静态方法\n        year,month,day\u003dtuple(date_str.split(\"-\"))\n        return Date(int(year),int(month),int(day))\n    \n    @classmethod\n    def from_string(cls,date_str): # 类方法\n        year,month,day\u003dtuple(date_str.split(\"-\"))\n        return cls(int(year),int(month),int(day)) # cls相当于自动替换为Date\n",
      "metadata": {
        "pycharm": {
          "metadata": false,
          "name": "#%% \n",
          "is_executing": false
        }
      }
    },
    {
      "cell_type": "markdown",
      "source": "#### 数据封装和私有属性",
      "metadata": {
        "pycharm": {
          "metadata": false,
          "name": "#%% md\n"
        }
      }
    },
    {
      "cell_type": "code",
      "execution_count": 11,
      "outputs": [
        {
          "traceback": [
            "\u001b[0;31m---------------------------------------------------------------------------\u001b[0m",
            "\u001b[0;31mAttributeError\u001b[0m                            Traceback (most recent call last)",
            "\u001b[0;32m\u003cipython-input-11-bcc421bc6a8d\u003e\u001b[0m in \u001b[0;36m\u003cmodule\u003e\u001b[0;34m\u001b[0m\n\u001b[1;32m      7\u001b[0m         \u001b[0;32mreturn\u001b[0m \u001b[0;36m2018\u001b[0m \u001b[0;34m-\u001b[0m \u001b[0mself\u001b[0m\u001b[0;34m.\u001b[0m\u001b[0m__birthday\u001b[0m\u001b[0;34m\u001b[0m\u001b[0m\n\u001b[1;32m      8\u001b[0m \u001b[0;34m\u001b[0m\u001b[0m\n\u001b[0;32m----\u003e 9\u001b[0;31m \u001b[0mprint\u001b[0m\u001b[0;34m(\u001b[0m\u001b[0mUser\u001b[0m\u001b[0;34m(\u001b[0m\u001b[0;36m2018\u001b[0m\u001b[0;34m)\u001b[0m\u001b[0;34m.\u001b[0m\u001b[0m__birthday\u001b[0m\u001b[0;34m)\u001b[0m\u001b[0;34m\u001b[0m\u001b[0m\n\u001b[0m\u001b[1;32m     10\u001b[0m \u001b[0;34m\u001b[0m\u001b[0m\n",
            "\u001b[0;31mAttributeError\u001b[0m: \u0027User\u0027 object has no attribute \u0027__birthday\u0027"
          ],
          "ename": "AttributeError",
          "evalue": "\u0027User\u0027 object has no attribute \u0027__birthday\u0027",
          "output_type": "error"
        }
      ],
      "source": "class User:\n    def __init__(self,birthday):\n        # 加了双下划线\"__\"变成私有的，无法直接访问\n        self.__birthday\u003dbirthday # 实际上访问的名字变成\"_User__birthday\"\n\n    def get_age(self):\n        return 2018 - self.__birthday\n    \nprint(User(2018).__birthday)\n",
      "metadata": {
        "pycharm": {
          "metadata": false,
          "name": "#%%\n",
          "is_executing": false
        }
      }
    },
    {
      "cell_type": "markdown",
      "source": "#### Python对象的自省机制\n自省是通过\"\\_\\_dict\\_\\_\"查询对象的内部结构\n",
      "metadata": {
        "pycharm": {
          "metadata": false,
          "name": "#%% md\n"
        }
      }
    },
    {
      "cell_type": "code",
      "execution_count": 14,
      "outputs": [
        {
          "name": "stdout",
          "text": [
            "{\u0027school_name\u0027: \u0027linxinzhe\u0027}\n{\u0027__module__\u0027: \u0027__main__\u0027, \u0027name\u0027: \u0027person\u0027, \u0027__dict__\u0027: \u003cattribute \u0027__dict__\u0027 of \u0027Person\u0027 objects\u003e, \u0027__weakref__\u0027: \u003cattribute \u0027__weakref__\u0027 of \u0027Person\u0027 objects\u003e, \u0027__doc__\u0027: None}\nperson\n"
          ],
          "output_type": "stream"
        }
      ],
      "source": "class Person:\n    name\u003d\"person\"\n    \nclass Student(Person):\n    def __init__(self,school_name):\n        self.school_name\u003dschool_name\n\nuser\u003dStudent(\"linxinzhe\")\nprint(user.__dict__)\nprint(Person.__dict__)\nprint(user.name)\nprint(dir(user))\n",
      "metadata": {
        "pycharm": {
          "metadata": false,
          "name": "#%%\n",
          "is_executing": false
        }
      }
    },
    {
      "cell_type": "markdown",
      "source": "#### super调用的是MRO顺序里的init",
      "metadata": {
        "pycharm": {
          "metadata": false,
          "name": "#%% md\n"
        }
      }
    },
    {
      "cell_type": "code",
      "execution_count": 16,
      "outputs": [
        {
          "name": "stdout",
          "text": [
            "D\nB\nC\nA\n"
          ],
          "output_type": "stream"
        },
        {
          "data": {
            "text/plain": "\u003c__main__.D at 0x108217438\u003e"
          },
          "metadata": {},
          "output_type": "execute_result",
          "execution_count": 16
        }
      ],
      "source": "class A:\n    def __init__(self):\n        print(\"A\")\nclass B(A):\n    def __init__(self):\n        print(\"B\")\n        super().__init__()\nclass C(A):\n    def __init__(self):\n        print(\"C\")\n        super().__init__()\nclass D(B,C):\n    def __init__(self):\n        print(\"D\")\n        super().__init__()\n\nD()\n",
      "metadata": {
        "pycharm": {
          "metadata": false,
          "name": "#%%\n",
          "is_executing": false
        }
      }
    },
    {
      "cell_type": "markdown",
      "source": "#### mixin继承",
      "metadata": {
        "pycharm": {
          "metadata": false,
          "name": "#%% md\n"
        }
      }
    }
  ],
  "metadata": {
    "language_info": {
      "codemirror_mode": {
        "name": "ipython",
        "version": 2
      },
      "file_extension": ".py",
      "mimetype": "text/x-python",
      "name": "python",
      "nbconvert_exporter": "python",
      "pygments_lexer": "ipython2",
      "version": "2.7.6"
    },
    "kernelspec": {
      "name": "python3",
      "language": "python",
      "display_name": "Python 3"
    }
  },
  "nbformat": 4,
  "nbformat_minor": 0
}