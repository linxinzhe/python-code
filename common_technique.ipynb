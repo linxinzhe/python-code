{
  "cells": [
    {
      "cell_type": "markdown",
      "source": "#### 数据结构与算法相关问题与解决技巧\n",
      "metadata": {
        "pycharm": {
          "metadata": false
        }
      }
    },
    {
      "cell_type": "markdown",
      "source": "##### 列表、字典、集合中根据条件筛选数据\n",
      "metadata": {
        "pycharm": {
          "metadata": false
        }
      }
    },
    {
      "cell_type": "code",
      "execution_count": null,
      "outputs": [],
      "source": "# 列表\nimport random\nrandom.seed(1)\n\ndata \u003d [random.randint(-10, 10) for x in range(10)]\nprint(data)\n# -- 列表解析\npositive_int \u003d [x for x in data if x \u003e\u003d 0]\nprint(positive_int)\n# -- 列表过滤\npositive_int \u003d list(filter(lambda x: x \u003e\u003d 0, data))\nprint(positive_int)\n",
      "metadata": {
        "pycharm": {
          "metadata": false,
          "name": "#%% \n"
        }
      }
    },
    {
      "cell_type": "code",
      "execution_count": null,
      "outputs": [],
      "source": "# - 字典\nimport random\nrandom.seed(1)\n\ndata \u003d {x: random.randint(-10, 10) for x in range(10)}\n# -- 字典解析\npositive_int \u003d {k: v for k, v in data.items() if v \u003e 0}\nprint(positive_int)\n",
      "metadata": {
        "pycharm": {
          "metadata": false,
          "name": "#%%\n"
        }
      }
    },
    {
      "cell_type": "code",
      "execution_count": null,
      "outputs": [],
      "source": "# - 集合\nimport random\nrandom.seed(1)\n\ndata \u003d {random.randint(-10, 10) for x in range(10)}\n# -- 集合解析\npositive_int \u003d {x for x in data if x \u003e 0}\nprint(positive_int)\n",
      "metadata": {
        "pycharm": {
          "metadata": false,
          "name": "#%%\n"
        }
      }
    },
    {
      "cell_type": "markdown",
      "source": "##### 元组的元素命名",
      "metadata": {
        "pycharm": {
          "metadata": false,
          "name": "#%% md\n"
        }
      }
    },
    {
      "cell_type": "code",
      "execution_count": 1,
      "outputs": [
        {
          "name": "stdout",
          "text": [
            "Student(name\u003d\u0027linxinzhe\u0027, age\u003d20, sex\u003d\u0027male\u0027, email\u003d\u0027linxinzhechn@qq.com\u0027)\nTrue\n"
          ],
          "output_type": "stream"
        }
      ],
      "source": "from collections import namedtuple\nStudent\u003dnamedtuple(\u0027Student\u0027,[\u0027name\u0027,\u0027age\u0027,\u0027sex\u0027,\u0027email\u0027])\ns\u003dStudent(\u0027linxinzhe\u0027,20,\u0027male\u0027,\u0027linxinzhechn@qq.com\u0027)\nprint(s)\nprint(s[0]\u003d\u003ds.name)\n",
      "metadata": {
        "pycharm": {
          "metadata": false,
          "name": "#%%\n",
          "is_executing": false
        }
      }
    },
    {
      "cell_type": "markdown",
      "source": "##### 根据字典中值的大小，对字典中的项排序",
      "metadata": {
        "pycharm": {
          "metadata": false
        }
      }
    },
    {
      "cell_type": "code",
      "execution_count": 2,
      "outputs": [
        {
          "name": "stdout",
          "text": [
            "[(\u0027D\u0027, 8), (\u0027F\u0027, 15), (\u0027A\u0027, 17), (\u0027E\u0027, 32), (\u0027G\u0027, 63), (\u0027B\u0027, 72), (\u0027C\u0027, 97)]\n"
          ],
          "output_type": "stream"
        }
      ],
      "source": "import random\nrandom.seed(1)\ndata \u003d {x: random.randint(0, 100) for x in \u0027ABCDEFG\u0027}\nprint(data)\nprint(sorted(data.items(),key\u003dlambda item:item[1]))\n",
      "metadata": {
        "pycharm": {
          "metadata": false,
          "name": "#%%\n",
          "is_executing": false
        }
      }
    },
    {
      "cell_type": "markdown",
      "source": "##### 统计序列中元素的频度",
      "metadata": {
        "pycharm": {
          "metadata": false
        }
      }
    },
    {
      "cell_type": "code",
      "execution_count": 3,
      "outputs": [
        {
          "name": "stdout",
          "text": [
            "[4, 18, 2, 8, 3, 15, 14, 15, 20, 12, 6, 3, 15, 0, 12, 13, 19, 0, 14, 8, 7, 18, 3, 10, 0, 0, 0, 20, 17, 0]\nCounter({0: 6, 3: 3, 15: 3, 18: 2, 8: 2, 14: 2, 20: 2, 12: 2, 4: 1, 2: 1, 6: 1, 13: 1, 19: 1, 7: 1, 10: 1, 17: 1})\n"
          ],
          "output_type": "stream"
        }
      ],
      "source": "import random\nrandom.seed(1)\ndata \u003d [random.randint(0, 20) for x in range(30)]\nprint(data)\nfrom collections import Counter\nc\u003dCounter(data)\nprint(c)\nprint(c.most_common(3))\n",
      "metadata": {
        "pycharm": {
          "metadata": false,
          "name": "#%%\n",
          "is_executing": false
        }
      }
    },
    {
      "cell_type": "markdown",
      "source": "##### 快速找到多个字典中的公共键",
      "metadata": {
        "pycharm": {
          "metadata": false
        }
      }
    },
    {
      "cell_type": "code",
      "execution_count": 1,
      "outputs": [
        {
          "name": "stdout",
          "text": [
            "{\u0027b\u0027: 4, \u0027c\u0027: 4, \u0027a\u0027: 4, \u0027d\u0027: 2}\n{\u0027h\u0027: 4, \u0027a\u0027: 1, \u0027d\u0027: 4}\n{\u0027d\u0027: 1, \u0027e\u0027: 1, \u0027a\u0027: 1, \u0027c\u0027: 4, \u0027f\u0027: 2}\n{\u0027a\u0027, \u0027d\u0027}\n"
          ],
          "output_type": "stream"
        }
      ],
      "source": "import random\nrandom.seed(1)\nc_list\u003d\u0027abcdefgh\u0027\nd1\u003d{k:random.randint(1,4) for k in random.sample(c_list,random.randint(3,6))}\nprint(d1)\nd2\u003d{k:random.randint(1,4) for k in random.sample(c_list,random.randint(3,6))}\nprint(d2)\nd3\u003d{k:random.randint(1,4) for k in random.sample(c_list,random.randint(3,6))}\nprint(d3)\ndl\u003d[d1,d2,d3]\nimport functools\ncommon_key\u003dfunctools.reduce(lambda a,b:a\u0026b,map(dict.keys,dl))\nprint(common_key)\n",
      "metadata": {
        "pycharm": {
          "metadata": false,
          "name": "#%%\n",
          "is_executing": false
        }
      }
    },
    {
      "cell_type": "markdown",
      "source": "##### 让字典保持有序",
      "metadata": {
        "pycharm": {
          "metadata": false
        }
      }
    },
    {
      "cell_type": "code",
      "execution_count": null,
      "outputs": [],
      "source": "import random\nrandom.seed(1)\nplayers\u003drandom.shuffle(list(\u0027abcdefgh\u0027))\n\nimport collections\nod\u003dcollections.OrderedDict()  # 3.6以前用OrderedDict，以后自带dict已经是有序\nfor i,p in enumerate(players,1):\n   od[p]\u003di \nprint(od)\n",
      "metadata": {
        "pycharm": {
          "metadata": false,
          "name": "#%%\n"
        }
      }
    },
    {
      "cell_type": "markdown",
      "source": "##### 实现用户的历史记录功能",
      "metadata": {
        "pycharm": {
          "metadata": false
        }
      }
    },
    {
      "cell_type": "code",
      "execution_count": 1,
      "outputs": [],
      "source": "import collections\nh\u003dcollections.deque([],5)\n# 持久化历史记录\nimport pickle\npickle.dump(h,open(\u0027save.pkl\u0027,\u0027wb\u0027))\nh\u003dpickle.load(open(\u0027save.pkl\u0027,\u0027rb\u0027))\n\n\n",
      "metadata": {
        "pycharm": {
          "metadata": false,
          "name": "#%%\n",
          "is_executing": false
        }
      }
    }
  ],
  "metadata": {
    "language_info": {
      "codemirror_mode": {
        "name": "ipython",
        "version": 2
      },
      "file_extension": ".py",
      "mimetype": "text/x-python",
      "name": "python",
      "nbconvert_exporter": "python",
      "pygments_lexer": "ipython2",
      "version": "2.7.6"
    },
    "kernelspec": {
      "name": "python3",
      "language": "python",
      "display_name": "Python 3"
    },
    "stem_cell": {
      "cell_type": "raw",
      "source": "",
      "metadata": {
        "pycharm": {
          "metadata": false
        }
      }
    }
  },
  "nbformat": 4,
  "nbformat_minor": 0
}